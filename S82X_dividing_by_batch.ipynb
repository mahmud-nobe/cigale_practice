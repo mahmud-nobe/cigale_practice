{
 "cells": [
  {
   "cell_type": "code",
   "execution_count": 9,
   "metadata": {},
   "outputs": [],
   "source": [
    "import pandas as pd\n",
    "from astropy.io import ascii\n",
    "from astropy.io import fits\n",
    "import matplotlib.pyplot as plt\n",
    "import seaborn as sns\n",
    "import numpy as np\n"
   ]
  },
  {
   "cell_type": "code",
   "execution_count": 26,
   "metadata": {},
   "outputs": [
    {
     "data": {
      "text/plain": [
       "0\n",
       "id                       object\n",
       "redshift                 object\n",
       "xray_boxcar_2to10keV     object\n",
       "xray_boxcar_0p5to2keV    object\n",
       "galex.FUV                object\n",
       "galex.FUV_err            object\n",
       "galex.NUV                object\n",
       "galex.NUV_err            object\n",
       "u_prime                  object\n",
       "u_prime_err              object\n",
       "g_prime                  object\n",
       "g_prime_err              object\n",
       "r_prime                  object\n",
       "r_prime_err              object\n",
       "i_prime                  object\n",
       "i_prime_err              object\n",
       "z_prime                  object\n",
       "z_prime_err              object\n",
       "UKIRT_WFCJ               object\n",
       "UKIRT_WFCJ_err           object\n",
       "ukirt.H                  object\n",
       "ukirt.H_err              object\n",
       "ukirt.Ks                 object\n",
       "ukirt.Ks                 object\n",
       "WISE1                    object\n",
       "WISE1_err                object\n",
       "WISE2                    object\n",
       "WISE2_err                object\n",
       "WISE3                    object\n",
       "WISE3_err                object\n",
       "WISE4                    object\n",
       "WISE4_err                object\n",
       "PSW                      object\n",
       "PSW_err                  object\n",
       "PMW                      object\n",
       "PMW_err                  object\n",
       "PLW                      object\n",
       "PLW_err                  object\n",
       "dtype: object"
      ]
     },
     "execution_count": 26,
     "metadata": {},
     "output_type": "execute_result"
    }
   ],
   "source": [
    "s82x_full = ascii.read('Stripe82X_529_final.txt').to_pandas()\n",
    "s82x_full.columns = s82x_full.iloc[0, :]\n",
    "s82x_full.drop([0]).dtypes"
   ]
  },
  {
   "cell_type": "code",
   "execution_count": null,
   "metadata": {},
   "outputs": [],
   "source": []
  }
 ],
 "metadata": {
  "kernelspec": {
   "display_name": "Python 3",
   "language": "python",
   "name": "python3"
  },
  "language_info": {
   "codemirror_mode": {
    "name": "ipython",
    "version": 3
   },
   "file_extension": ".py",
   "mimetype": "text/x-python",
   "name": "python",
   "nbconvert_exporter": "python",
   "pygments_lexer": "ipython3",
   "version": "3.6.8"
  },
  "latex_envs": {
   "LaTeX_envs_menu_present": true,
   "autoclose": false,
   "autocomplete": true,
   "bibliofile": "biblio.bib",
   "cite_by": "apalike",
   "current_citInitial": 1,
   "eqLabelWithNumbers": true,
   "eqNumInitial": 1,
   "hotkeys": {
    "equation": "Ctrl-E",
    "itemize": "Ctrl-I"
   },
   "labels_anchors": false,
   "latex_user_defs": false,
   "report_style_numbering": false,
   "user_envs_cfg": false
  }
 },
 "nbformat": 4,
 "nbformat_minor": 2
}
